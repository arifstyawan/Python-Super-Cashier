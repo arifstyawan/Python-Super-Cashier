{
 "cells": [
  {
   "cell_type": "code",
   "execution_count": 1,
   "metadata": {},
   "outputs": [],
   "source": [
    "import kasir as c"
   ]
  },
  {
   "attachments": {},
   "cell_type": "markdown",
   "metadata": {},
   "source": [
    "TEST CASE 1 = ADD ITEM"
   ]
  },
  {
   "cell_type": "code",
   "execution_count": 2,
   "metadata": {},
   "outputs": [
    {
     "name": "stdout",
     "output_type": "stream",
     "text": [
      "Item yang dibeli adalah: {'Ayam': [2, 20000]}.\n",
      "Item yang dibeli adalah: {'Ayam': [2, 20000], 'Pasta Gigi': [3, 15000]}.\n",
      "Item yang dibeli adalah: {'Ayam': [2, 20000], 'Pasta Gigi': [3, 15000], 'Mie goreng': [4, 12000]}.\n"
     ]
    }
   ],
   "source": [
    "#Customer ingin menambahkan item Ayam goreng dan pasta gigi\n",
    "\n",
    "trnsct_123 = c.Transaction()\n",
    "trnsct_123.add_item(\"Ayam\", 2, 20_000)\n",
    "trnsct_123.add_item(\"Pasta Gigi\", 3, 15_000)\n",
    "trnsct_123.add_item(\"Mie goreng\", 4, 12_000)\n"
   ]
  },
  {
   "attachments": {},
   "cell_type": "markdown",
   "metadata": {},
   "source": [
    "TEST CASE 2 = UPDATE ITEM"
   ]
  },
  {
   "cell_type": "code",
   "execution_count": 3,
   "metadata": {},
   "outputs": [
    {
     "name": "stdout",
     "output_type": "stream",
     "text": [
      "{'Ayam': [2, 20000], 'Mie goreng': [4, 12000], 'Telur': [3, 15000]}\n",
      "{'Ayam': [1, 20000], 'Mie goreng': [4, 12000], 'Telur': [3, 15000]}\n",
      "{'Ayam': [1, 20000], 'Mie goreng': [4, 15000], 'Telur': [3, 15000]}\n"
     ]
    }
   ],
   "source": [
    "#Customer ingin mengupdate nama item, jumlah item, dan harga item\n",
    "\n",
    "trnsct_123.update_item_name(\"Pasta Gigi\", \"Telur\")\n",
    "trnsct_123.update_item_qty(\"Ayam\", 1)\n",
    "trnsct_123.update_item_price(\"Mie goreng\", 15_000)"
   ]
  },
  {
   "attachments": {},
   "cell_type": "markdown",
   "metadata": {},
   "source": [
    "TEST CASE 3 = DELETE ITEM"
   ]
  },
  {
   "cell_type": "code",
   "execution_count": 4,
   "metadata": {},
   "outputs": [
    {
     "name": "stdout",
     "output_type": "stream",
     "text": [
      "Menghapus pesanan Telur.\n",
      "{'Ayam': [1, 20000], 'Mie goreng': [4, 15000]}\n"
     ]
    }
   ],
   "source": [
    "#Customer ingin menghapus item\n",
    "\n",
    "trnsct_123.delete_item(\"Telur\")"
   ]
  },
  {
   "attachments": {},
   "cell_type": "markdown",
   "metadata": {},
   "source": [
    "TEST CASE 4 = RESET TRANSAKSI"
   ]
  },
  {
   "cell_type": "code",
   "execution_count": 5,
   "metadata": {},
   "outputs": [
    {
     "name": "stdout",
     "output_type": "stream",
     "text": [
      "Semua item berhasil dihapus.\n"
     ]
    }
   ],
   "source": [
    "#Customer ingin mereset transaksi\n",
    "trnsct_123.reset_transaction()"
   ]
  },
  {
   "cell_type": "code",
   "execution_count": 6,
   "metadata": {},
   "outputs": [
    {
     "name": "stdout",
     "output_type": "stream",
     "text": [
      "Item yang dibeli adalah: {'Ayam': [2, 20000]}.\n",
      "Item yang dibeli adalah: {'Ayam': [2, 20000], 'Pasta Gigi': [3, 15000]}.\n",
      "Item yang dibeli adalah: {'Ayam': [2, 20000], 'Pasta Gigi': [3, 15000], 'Mie goreng': [4, 12000]}.\n",
      "Item yang dibeli adalah: {'Ayam': [2, 20000], 'Pasta Gigi': [3, 15000], 'Mie goreng': [4, 12000], 'Telur': [12, 25000]}.\n",
      "Item yang dibeli adalah: {'Ayam': [2, 20000], 'Pasta Gigi': [3, 15000], 'Mie goreng': [4, 12000], 'Telur': [12, 25000], 'Ikan': [5, 20000]}.\n",
      "Item yang dibeli adalah: {'Ayam': [2, 20000], 'Pasta Gigi': [3, 15000], 'Mie goreng': [4, 12000], 'Telur': [12, 25000], 'Ikan': [5, 20000], 'Beras': [1, 60000]}.\n",
      "Item yang dibeli adalah: {'Ayam': [2, 20000], 'Pasta Gigi': [3, 15000], 'Mie goreng': [4, 12000], 'Telur': [12, 25000], 'Ikan': [5, 20000], 'Beras': [1, 60000], 'Minyak goreng': [2, 50000]}.\n",
      "Item yang dibeli adalah: {'Ayam': [2, 20000], 'Pasta Gigi': [3, 15000], 'Mie goreng': [4, 12000], 'Telur': [12, 25000], 'Ikan': [5, 20000], 'Beras': [1, 60000], 'Minyak goreng': [2, 50000], 'Sabun mandi': [4, 20000]}.\n"
     ]
    }
   ],
   "source": [
    "trnsct_123 = c.Transaction()\n",
    "trnsct_123.add_item(\"Ayam\", 2, 20_000)\n",
    "trnsct_123.add_item(\"Pasta Gigi\", 3, 15_000)\n",
    "trnsct_123.add_item(\"Mie goreng\", 4, 12_000)\n",
    "trnsct_123.add_item(\"Telur\", 12, 25_000)\n",
    "trnsct_123.add_item(\"Ikan\", 5, 20_000)\n",
    "trnsct_123.add_item(\"Beras\", 1, 60_000)\n",
    "trnsct_123.add_item(\"Minyak goreng\", 2, 50_000)\n",
    "trnsct_123.add_item(\"Sabun mandi\", 4, 20_000)\n"
   ]
  },
  {
   "attachments": {},
   "cell_type": "markdown",
   "metadata": {},
   "source": [
    "TEST CASE 5 = MENAMPILKAN SEMUA ITEM YANG DIPESAN"
   ]
  },
  {
   "cell_type": "code",
   "execution_count": 7,
   "metadata": {},
   "outputs": [
    {
     "name": "stdout",
     "output_type": "stream",
     "text": [
      "| Nama Item     |   Jumlah Item |   Harga/Item |\n",
      "|---------------|---------------|--------------|\n",
      "| Ayam          |             2 |        20000 |\n",
      "| Pasta Gigi    |             3 |        15000 |\n",
      "| Mie goreng    |             4 |        12000 |\n",
      "| Telur         |            12 |        25000 |\n",
      "| Ikan          |             5 |        20000 |\n",
      "| Beras         |             1 |        60000 |\n",
      "| Minyak goreng |             2 |        50000 |\n",
      "| Sabun mandi   |             4 |        20000 |\n"
     ]
    }
   ],
   "source": [
    "#Customer ingin mengecek seluruh belanjaan\n",
    "trnsct_123.print_item()"
   ]
  },
  {
   "attachments": {},
   "cell_type": "markdown",
   "metadata": {},
   "source": [
    "TES CASE 6 = TOTAL PRICE"
   ]
  },
  {
   "cell_type": "code",
   "execution_count": 8,
   "metadata": {},
   "outputs": [
    {
     "name": "stdout",
     "output_type": "stream",
     "text": [
      "| Nama Item     |   Jumlah Item |   Harga/Item |\n",
      "|---------------|---------------|--------------|\n",
      "| Ayam          |             2 |        20000 |\n",
      "| Pasta Gigi    |             3 |        15000 |\n",
      "| Mie goreng    |             4 |        12000 |\n",
      "| Telur         |            12 |        25000 |\n",
      "| Ikan          |             5 |        20000 |\n",
      "| Beras         |             1 |        60000 |\n",
      "| Minyak goreng |             2 |        50000 |\n",
      "| Sabun mandi   |             4 |        20000 |\n",
      "Selamat, Anda mendapatkan diskon 10% sebesar Rp 11100.\n",
      "Total belanja Anda adalah Rp 210900.\n"
     ]
    }
   ],
   "source": [
    "#Customer ingin menghitung total belanjaan\n",
    "trnsct_123.total_price()"
   ]
  }
 ],
 "metadata": {
  "kernelspec": {
   "display_name": "Python 3",
   "language": "python",
   "name": "python3"
  },
  "language_info": {
   "codemirror_mode": {
    "name": "ipython",
    "version": 3
   },
   "file_extension": ".py",
   "mimetype": "text/x-python",
   "name": "python",
   "nbconvert_exporter": "python",
   "pygments_lexer": "ipython3",
   "version": "3.9.13"
  },
  "orig_nbformat": 4
 },
 "nbformat": 4,
 "nbformat_minor": 2
}
